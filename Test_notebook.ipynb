{
 "cells": [
  {
   "cell_type": "code",
   "execution_count": 34,
   "metadata": {
    "collapsed": true
   },
   "outputs": [],
   "source": [
    "from lim.tool import normalize\n",
    "from lim.genetics import qtl\n",
    "from lim.genetics.phenotype import BinomialPhenotype\n",
    "\n",
    "from numpy import random\n",
    "from numpy import asarray\n",
    "from numpy import zeros\n",
    "from numpy import empty\n",
    "from numpy import ones\n",
    "from numpy import sqrt\n",
    "from numpy import ones"
   ]
  },
  {
   "cell_type": "markdown",
   "metadata": {},
   "source": [
    "This is markdown"
   ]
  },
  {
   "cell_type": "code",
   "execution_count": 35,
   "metadata": {
    "collapsed": false
   },
   "outputs": [],
   "source": [
    "random = random.RandomState(0)\n",
    "N = 50\n",
    "P = 100\n",
    "\n",
    "# genetic markers\n",
    "X = random.randn(N, P)\n",
    "X = normalize.stdnorm(X, axis=0)\n",
    "X /= sqrt(X.shape[1])"
   ]
  },
  {
   "cell_type": "code",
   "execution_count": 36,
   "metadata": {
    "collapsed": false
   },
   "outputs": [
    {
     "name": "stdout",
     "output_type": "stream",
     "text": [
      "[[ 0.18479189  0.05950881  0.10006751 ...,  0.1870347   0.02485416\n",
      "   0.04670522]\n",
      " [ 0.19557282 -0.13759332 -0.14129283 ...,  0.08870376  0.23328839\n",
      "   0.14638904]\n",
      " [-0.00831103 -0.01260791  0.11304341 ...,  0.06412523 -0.02902316\n",
      "   0.04329899]\n",
      " ..., \n",
      " [-0.13898022  0.00033303 -0.02316357 ..., -0.06953578 -0.09658733\n",
      "  -0.0305161 ]\n",
      " [ 0.06251618 -0.10773735  0.03601632 ...,  0.16726924  0.00762169\n",
      "   0.15059315]\n",
      " [ 0.14781867  0.08489966  0.17483606 ...,  0.0995015   0.03534647\n",
      "   0.04802965]]\n"
     ]
    }
   ],
   "source": [
    "print(X)"
   ]
  },
  {
   "cell_type": "code",
   "execution_count": 41,
   "metadata": {
    "collapsed": true
   },
   "outputs": [],
   "source": [
    "# effect sizes\n",
    "u = zeros(P)\n",
    "u[0] = +1\n",
    "u[1] = +1\n",
    "u[2] = -1\n",
    "u[3] = -1\n",
    "u[4] = -1\n",
    "u[5] = +1\n",
    "\n",
    "offset = 0.4\n",
    "\n",
    "# latent phenotype definition\n",
    "f = offset + X.dot(u) + 0.2 * random.randn(N)\n",
    "\n",
    "# phenotype definition\n",
    "nsuccesses = empty(N)\n",
    "ntrials = random.randint(1, 30, N)\n",
    "for i in range(N):\n",
    "    nsuccesses[i] = sum(f[i] > 0.2 * random.randn(ntrials[i]))\n",
    "ntrials = asarray(ntrials, float)\n"
   ]
  },
  {
   "cell_type": "code",
   "execution_count": 43,
   "metadata": {
    "collapsed": false
   },
   "outputs": [
    {
     "name": "stdout",
     "output_type": "stream",
     "text": [
      "[ 15.  29.  22.  22.   2.  23.  13.  21.   8.  29.  11.  11.  18.  13.   2.\n",
      "  15.  22.  19.  15.   7.  29.   2.  23.   4.   7.  29.  28.  28.  23.  17.\n",
      "  21.  22.  10.  15.  18.   2.   4.  13.  25.  19.   1.   6.   6.  18.   9.\n",
      "  22.  20.  26.   9.  14.]\n"
     ]
    }
   ],
   "source": [
    "print(ntrials)"
   ]
  },
  {
   "cell_type": "code",
   "execution_count": 45,
   "metadata": {
    "collapsed": false
   },
   "outputs": [
    {
     "name": "stdout",
     "output_type": "stream",
     "text": [
      "[  3.  29.  16.  22.   2.  20.  13.  21.   5.  26.  11.   9.   2.   7.   2.\n",
      "  14.  22.  19.   7.   7.   8.   2.  16.   2.   6.  12.  28.  21.   9.  17.\n",
      "  21.  22.  10.  12.  16.   2.   4.  13.  25.  18.   1.   4.   6.  16.   9.\n",
      "  22.  20.  26.   1.  14.]\n"
     ]
    }
   ],
   "source": [
    "print(nsuccesses)"
   ]
  },
  {
   "cell_type": "code",
   "execution_count": 47,
   "metadata": {
    "collapsed": true
   },
   "outputs": [],
   "source": [
    "G = X[:, 2:].copy()"
   ]
  },
  {
   "cell_type": "code",
   "execution_count": 48,
   "metadata": {
    "collapsed": false
   },
   "outputs": [
    {
     "data": {
      "text/plain": [
       "array([[ 0.10006751,  0.23228256,  0.24071662, ...,  0.1870347 ,\n",
       "         0.02485416,  0.04670522],\n",
       "       [-0.14129283,  0.10424478, -0.11878303, ...,  0.08870376,\n",
       "         0.23328839,  0.14638904],\n",
       "       [ 0.11304341,  0.07261207,  0.09559803, ...,  0.06412523,\n",
       "        -0.02902316,  0.04329899],\n",
       "       ..., \n",
       "       [-0.02316357, -0.03969024,  0.12118326, ..., -0.06953578,\n",
       "        -0.09658733, -0.0305161 ],\n",
       "       [ 0.03601632,  0.05599574,  0.11690129, ...,  0.16726924,\n",
       "         0.00762169,  0.15059315],\n",
       "       [ 0.17483606, -0.02259432, -0.00715882, ...,  0.0995015 ,\n",
       "         0.03534647,  0.04802965]])"
      ]
     },
     "execution_count": 48,
     "metadata": {},
     "output_type": "execute_result"
    }
   ],
   "source": [
    "G"
   ]
  },
  {
   "cell_type": "code",
   "execution_count": 51,
   "metadata": {
    "collapsed": false
   },
   "outputs": [
    {
     "name": "stderr",
     "output_type": "stream",
     "text": [
      "INFO:lim.genetics.qtl._scan:Binomial association scan has started.\n",
      "INFO:lim.genetics.qtl._scan:Number of candidate markers to scan: 100\n",
      "INFO:lim.genetics.qtl._scan:Genetic markers normalization.\n",
      "INFO:lim.genetics.qtl._scan:Computing the economic eigen decomposition.\n",
      "INFO:lim.genetics.qtl._scan:Genetic marker candidates normalization.\n",
      "INFO:lim.genetics.qtl._qtl:Computing likelihood-ratio test statistics.\n",
      "EP: 23it [00:06,  3.78it/s]\n",
      "INFO:lim.genetics.qtl._qtl:Computing likelihood-ratio test statistics.\n",
      "INFO:lim.genetics.qtl._qtl:Computing likelihood-ratio test statistics.\n",
      "INFO:lim.genetics.qtl._qtl:Computing likelihood-ratio test statistics.\n"
     ]
    },
    {
     "name": "stdout",
     "output_type": "stream",
     "text": [
      "[ 0.06592087  0.00592418  0.00409125  0.08933283  0.06021454  0.017675\n",
      "  0.48369464  0.69274254  0.66156281  0.32716436  0.51817718  0.62005074\n",
      "  0.10419493  0.42008071  0.97007491  0.88549144  0.91360755  0.9395218\n",
      "  0.05861238  0.19935912  0.42126711  0.90935001  0.38850866  0.86990476\n",
      "  0.95322924  0.54854916  0.0530313   0.05162454  0.32503011  0.79559777\n",
      "  0.66253238  0.33053769  0.13000305  0.75450713  0.127351    0.41017218\n",
      "  0.37505843  0.50021434  0.68462666  0.31241742  0.72806435  0.6974065\n",
      "  0.73449509  0.61215322  0.26921384  0.27705871  0.30504296  0.85193349\n",
      "  0.76066373  0.83231789  0.69148118  0.57377325  0.87899047  0.63607782\n",
      "  0.6347454   0.37661341  0.86224298  0.63793638  0.36224911  0.44226268\n",
      "  0.19908364  0.43994632  0.63963347  0.73731701  0.35719309  0.24981661\n",
      "  0.05344851  0.23693073  0.07083813  0.22346829  0.02967686  0.85803632\n",
      "  0.5805593   0.61991676  0.09415204  0.40589473  0.61256216  0.83603457\n",
      "  0.74874997  0.8621465   0.72256003  0.37895709  0.27042155  0.28875944\n",
      "  0.74108714  0.36329826  0.77492611  0.17412092  0.61591557  0.87215181\n",
      "  0.72718263  0.34720026  0.01276079  0.37152511  0.15359145  0.92431215\n",
      "  0.44138248  0.70590172  0.69394934  0.69077503]\n"
     ]
    }
   ],
   "source": [
    "lrt = qtl.scan(BinomialPhenotype(nsuccesses, ntrials), X,\n",
    "               G, progress=False)\n",
    "print(lrt.pvalues())"
   ]
  },
  {
   "cell_type": "code",
   "execution_count": 52,
   "metadata": {
    "collapsed": false
   },
   "outputs": [
    {
     "data": {
      "text/plain": [
       "<lim.genetics.qtl._qtl.QTLScan at 0x110182a20>"
      ]
     },
     "execution_count": 52,
     "metadata": {},
     "output_type": "execute_result"
    }
   ],
   "source": [
    "lrt"
   ]
  }
 ],
 "metadata": {
  "anaconda-cloud": {},
  "kernelspec": {
   "display_name": "Python [conda root]",
   "language": "python",
   "name": "conda-root-py"
  },
  "language_info": {
   "codemirror_mode": {
    "name": "ipython",
    "version": 3
   },
   "file_extension": ".py",
   "mimetype": "text/x-python",
   "name": "python",
   "nbconvert_exporter": "python",
   "pygments_lexer": "ipython3",
   "version": "3.5.2"
  }
 },
 "nbformat": 4,
 "nbformat_minor": 1
}
